{
 "cells": [
  {
   "cell_type": "code",
   "execution_count": 28,
   "metadata": {},
   "outputs": [],
   "source": [
    "import scipy.io\n",
    "import numpy as np\n",
    "\n",
    "\n",
    "mat = scipy.io.loadmat('Data.mat')\n",
    "input_, target_ = mat[\"Input\"], mat[\"Target\"]\n",
    "\n",
    "fixed_shape_input = [[input_[0][i], input_[1][i]] for i in range(input_.shape[1])]\n",
    "X = np.array(fixed_shape_input)\n",
    "y = target_\n"
   ]
  },
  {
   "cell_type": "code",
   "execution_count": 57,
   "metadata": {},
   "outputs": [],
   "source": [
    "class Perceptron:\n",
    "    def __init__(self, input_size) -> None:\n",
    "        self.input_size = input_size\n",
    "        self.W = np.random.rand(input_size + 1)\n",
    "        \n",
    "    def get_net(self, inp): \n",
    "        # print(self.W)\n",
    "        net = np.dot(inp, self.W[1:]) + self.W[0]\n",
    "        return net\n",
    "\n",
    "    def activation(self, net): \n",
    "        \"\"\"activation function\"\"\"\n",
    "        return np.tanh(net)\n",
    "\n",
    "    def activation_prim(self, net):\n",
    "        return 1 - (np.tanh(net)**2)\n",
    "\n",
    "    def feed(self, inp):\n",
    "        net = self.get_net(inp)\n",
    "        return self.activation(net)\n",
    "\n"
   ]
  },
  {
   "cell_type": "code",
   "execution_count": 65,
   "metadata": {},
   "outputs": [
    {
     "name": "stdout",
     "output_type": "stream",
     "text": [
      "0.9773765338514573\n",
      "1.9550089783132016\n"
     ]
    }
   ],
   "source": [
    "class MLPClassifier_:\n",
    "    def __init__(self, layer_size, hidden_size=1) -> None:\n",
    "        self.hidden_size = hidden_size\n",
    "        self.layer_size = layer_size\n",
    "        self.hidden_layers = None\n",
    "        self.output_layer = None\n",
    "        self.loss = None\n",
    "        self.X_train = None\n",
    "        self.y_train = None\n",
    "        self.out = None\n",
    "\n",
    "    def initial(self, X, y):\n",
    "        hidden_layers = []\n",
    "        for i in range(self.hidden_size):\n",
    "            layer = [Perceptron(X.shape[1]) for i in range(self.layer_size)]\n",
    "            hidden_layers.append(np.array(layer))\n",
    "        self.hidden_layers = np.array(hidden_layers)\n",
    "        #\n",
    "        self.output_layer = Perceptron(self.layer_size)\n",
    "    ...\n",
    "\n",
    "    def fit(self, X, y, i):\n",
    "        if self.hidden_layers is None:\n",
    "            self.initial(X, y)\n",
    "        #\n",
    "        self.X_train = X\n",
    "        self.y_train = y\n",
    "        #\n",
    "        inp = X[i]\n",
    "        for layer in self.hidden_layers:\n",
    "            next_inp = []\n",
    "            for neuron in layer:\n",
    "                next_inp.append(neuron.feed(inp))\n",
    "            inp = np.array(next_inp)\n",
    "\n",
    "        self.out = self.output_layer.feed(inp)\n",
    "        print(self.out)\n",
    "        print(self.loss_func(y[0][i], self.out))\n",
    "    ...    \n",
    "        \n",
    "    def predict(self, inp): ...\n",
    "\n",
    "    def loss_func(self, y, y_pre):\n",
    "        return ((y - y_pre)**2) / 2\n",
    "    \n",
    "        \n",
    "\n",
    "\n",
    "\n",
    "mlp = MLPClassifier_(2)\n",
    "mlp.fit(X, y, i=0)\n"
   ]
  }
 ],
 "metadata": {
  "kernelspec": {
   "display_name": "myenv",
   "language": "python",
   "name": "python3"
  },
  "language_info": {
   "codemirror_mode": {
    "name": "ipython",
    "version": 3
   },
   "file_extension": ".py",
   "mimetype": "text/x-python",
   "name": "python",
   "nbconvert_exporter": "python",
   "pygments_lexer": "ipython3",
   "version": "3.10.13"
  }
 },
 "nbformat": 4,
 "nbformat_minor": 2
}
