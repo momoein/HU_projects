{
 "cells": [
  {
   "cell_type": "code",
   "execution_count": 2,
   "metadata": {},
   "outputs": [],
   "source": [
    "import scipy.io\n",
    "import numpy as np\n",
    "from neural_network import MLP\n",
    "from sklearn.model_selection import train_test_split"
   ]
  },
  {
   "cell_type": "code",
   "execution_count": 4,
   "metadata": {},
   "outputs": [],
   "source": [
    "# load data\n",
    "path = \"D:\\\\work\\\\university\\\\Huni_projects\\\\computional_intelligence\\\\tasks\\\\ANNproject\\\\Data.mat\"\n",
    "mat = scipy.io.loadmat(path)\n",
    "input_, target_ = mat[\"Input\"], mat[\"Target\"]\n",
    "\n",
    "# fix data shape\n",
    "fixed_shape_input = [[input_[0][i], input_[1][i]] for i in range(input_.shape[1])]\n",
    "X = np.array(fixed_shape_input)\n",
    "y = np.array(target_[0])\n",
    "\n",
    "X_train, X_test, y_train, y_test = train_test_split(X, y, test_size=0.3, random_state=4321)\n"
   ]
  },
  {
   "cell_type": "code",
   "execution_count": 16,
   "metadata": {},
   "outputs": [],
   "source": [
    "class AF():\n",
    "    def sigmoid(self, z):\n",
    "        \"\"\"The sigmoid function.\"\"\"\n",
    "        return 1.0/(1.0+np.exp(-z))\n",
    "\n",
    "    def sigmoid_prime(self, z):\n",
    "        \"\"\"Derivative of the sigmoid function.\"\"\"\n",
    "        return self.sigmoid(z) * (1-self.sigmoid(z))\n",
    "    \n",
    "    def tanh(self, z):\n",
    "        \"\"\"The tanh function\"\"\"\n",
    "        return np.tanh(z)\n",
    "    \n",
    "    def tanh_prime(self, z):\n",
    "        \"\"\"Derivative of the tanh function.\"\"\"\n",
    "        return 1 - (np.tanh(z)**2)"
   ]
  },
  {
   "cell_type": "code",
   "execution_count": 17,
   "metadata": {},
   "outputs": [],
   "source": [
    "class MLP:\n",
    "    def __init__(self, layers_size: list=[2, 3, 1]) -> None:\n",
    "        \"\"\"layers_size: list=[input_size, hidden layers size...]\"\"\"\n",
    "        self.size = len(layers_size)\n",
    "        self.layers_size = layers_size\n",
    "        self.biases = [np.random.randn(i, 1) for i in layers_size[1:]]\n",
    "        self.weights = [np.random.randn(y, x)\n",
    "                        for x, y in zip(layers_size[:-1], layers_size[1:])]\n",
    "        \n",
    "    def feedforward(self, a):\n",
    "        \"\"\"Return the output of the network if ``a`` is input.\"\"\"\n",
    "        for b, w in zip(self.biases, self.weights):\n",
    "            a = AF.tanh(np.dot(w, a)+b)\n",
    "        return a\n",
    "\n",
    "\n",
    "    \n"
   ]
  },
  {
   "cell_type": "code",
   "execution_count": null,
   "metadata": {},
   "outputs": [],
   "source": []
  }
 ],
 "metadata": {
  "kernelspec": {
   "display_name": "myenv",
   "language": "python",
   "name": "python3"
  },
  "language_info": {
   "codemirror_mode": {
    "name": "ipython",
    "version": 3
   },
   "file_extension": ".py",
   "mimetype": "text/x-python",
   "name": "python",
   "nbconvert_exporter": "python",
   "pygments_lexer": "ipython3",
   "version": "3.10.13"
  }
 },
 "nbformat": 4,
 "nbformat_minor": 2
}
