{
 "cells": [
  {
   "cell_type": "code",
   "execution_count": 6,
   "metadata": {},
   "outputs": [],
   "source": [
    "# import setup\n",
    "\n",
    "__file__ = \"map_coloring.ipynb\"\n",
    "\n",
    "def add_nth_parent_dir_to_syspath(n=0, display=False):\n",
    "    import os\n",
    "    import sys\n",
    "    def nth_parent_dir(n):\n",
    "        \"\"\"default n=0 means current directory\"\"\"\n",
    "        path = os.path.dirname(os.path.realpath(__file__))\n",
    "        for _ in range(n):\n",
    "            path = os.path.dirname(path)\n",
    "        return path\n",
    "    \n",
    "    dir = nth_parent_dir(n)\n",
    "    print(dir) if display else None\n",
    "        \n",
    "    if dir not in sys.path:\n",
    "        sys.path.append(dir)\n",
    "\n",
    "add_nth_parent_dir_to_syspath(n=1)\n",
    "\n"
   ]
  },
  {
   "cell_type": "code",
   "execution_count": 7,
   "metadata": {},
   "outputs": [],
   "source": [
    "from collections import defaultdict\n",
    "\n",
    "from tools.csp import *"
   ]
  },
  {
   "cell_type": "code",
   "execution_count": 8,
   "metadata": {},
   "outputs": [],
   "source": [
    "# Map Coloring CSP Problems\n",
    "\n",
    "def parse_neighbors(neighbors):\n",
    "    \"\"\"Convert a string of the form 'X: Y Z; Y: Z' into a dict mapping\n",
    "    regions to neighbors. The syntax is a region name followed by a ':'\n",
    "    followed by zero or more region names, followed by ';', repeated for\n",
    "    each region name. If you say 'X: Y' you don't need 'Y: X'.\n",
    "    >>> parse_neighbors('X: Y Z; Y: Z') == {'Y': ['X', 'Z'], 'X': ['Y', 'Z'], 'Z': ['X', 'Y']}\n",
    "    True\n",
    "    \"\"\"\n",
    "    dic = defaultdict(list)\n",
    "    specs = [spec.split(':') for spec in neighbors.split(';')]\n",
    "    for (A, Aneighbors) in specs:\n",
    "        A = A.strip()\n",
    "        for B in Aneighbors.split():\n",
    "            dic[A].append(B)\n",
    "            dic[B].append(A)\n",
    "    return dic\n",
    "\n",
    "\n",
    "def different_values_constraint(A, a, B, b):\n",
    "    \"\"\"A constraint saying two neighboring variables must differ in value.\"\"\"\n",
    "    return a != b\n",
    "\n",
    "\n",
    "def MapColoringCSP(colors, neighbors):\n",
    "    \"\"\"Make a CSP for the problem of coloring a map with different colors\n",
    "    for any two adjacent regions. Arguments are a list of colors, and a\n",
    "    dict of {region: [neighbor,...]} entries. This dict may also be\n",
    "    specified as a string of the form defined by parse_neighbors.\"\"\"\n",
    "    if isinstance(neighbors, str):\n",
    "        neighbors = parse_neighbors(neighbors)\n",
    "    return CSP(list(neighbors.keys()), UniversalDict(colors), neighbors, different_values_constraint)\n"
   ]
  },
  {
   "cell_type": "code",
   "execution_count": 9,
   "metadata": {},
   "outputs": [],
   "source": [
    "australia_csp = MapColoringCSP(list('RGB'), \"\"\"SA: WA NT Q NSW V; NT: WA Q; NSW: Q V; T: \"\"\")\n",
    "\n",
    "# backtracking_search(australia_csp)"
   ]
  },
  {
   "cell_type": "code",
   "execution_count": 10,
   "metadata": {},
   "outputs": [
    {
     "data": {
      "text/plain": [
       "{'AL': 'R',\n",
       " 'LO': 'G',\n",
       " 'FC': 'B',\n",
       " 'AQ': 'R',\n",
       " 'MP': 'G',\n",
       " 'LI': 'B',\n",
       " 'PC': 'G',\n",
       " 'AU': 'R',\n",
       " 'CE': 'Y',\n",
       " 'BO': 'G',\n",
       " 'RA': 'Y',\n",
       " 'LR': 'B',\n",
       " 'IF': 'R',\n",
       " 'CA': 'Y',\n",
       " 'BR': 'R',\n",
       " 'NB': 'G',\n",
       " 'PL': 'B',\n",
       " 'PI': 'G',\n",
       " 'NH': 'B',\n",
       " 'PA': 'R',\n",
       " 'NO': 'R'}"
      ]
     },
     "execution_count": 10,
     "metadata": {},
     "output_type": "execute_result"
    }
   ],
   "source": [
    "france_csp = MapColoringCSP(list('RGBY'),\n",
    "                            \"\"\"AL: LO FC; AQ: MP LI PC; AU: LI CE BO RA LR MP; BO: CE IF CA FC RA\n",
    "                            AU; BR: NB PL; CA: IF PI LO FC BO; CE: PL NB NH IF BO AU LI PC; FC: BO\n",
    "                            CA LO AL RA; IF: NH PI CA BO CE; LI: PC CE AU MP AQ; LO: CA AL FC; LR:\n",
    "                            MP AU RA PA; MP: AQ LI AU LR; NB: NH CE PL BR; NH: PI IF CE NB; NO:\n",
    "                            PI; PA: LR RA; PC: PL CE LI AQ; PI: NH NO CA IF; PL: BR NB CE PC; RA:\n",
    "                            AU BO FC PA LR\"\"\")\n",
    "\n",
    "backtracking_search(france_csp)"
   ]
  }
 ],
 "metadata": {
  "kernelspec": {
   "display_name": "base",
   "language": "python",
   "name": "python3"
  },
  "language_info": {
   "codemirror_mode": {
    "name": "ipython",
    "version": 3
   },
   "file_extension": ".py",
   "mimetype": "text/x-python",
   "name": "python",
   "nbconvert_exporter": "python",
   "pygments_lexer": "ipython3",
   "version": "3.12.3"
  }
 },
 "nbformat": 4,
 "nbformat_minor": 2
}
