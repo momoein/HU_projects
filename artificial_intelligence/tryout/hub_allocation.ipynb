{
 "cells": [
  {
   "cell_type": "code",
   "execution_count": 2,
   "metadata": {},
   "outputs": [],
   "source": [
    "import numpy as np"
   ]
  },
  {
   "cell_type": "code",
   "execution_count": 10,
   "metadata": {},
   "outputs": [],
   "source": [
    "romania_map_locations = dict(\n",
    "    Arad=(91, 492), Bucharest=(400, 327), Craiova=(253, 288),\n",
    "    Drobeta=(165, 299), Eforie=(562, 293), Fagaras=(305, 449),\n",
    "    Giurgiu=(375, 270), Hirsova=(534, 350), Iasi=(473, 506),\n",
    "    Lugoj=(165, 379), Mehadia=(168, 339), Neamt=(406, 537),\n",
    "    Oradea=(131, 571), Pitesti=(320, 368), Rimnicu=(233, 410),\n",
    "    Sibiu=(207, 457), Timisoara=(94, 410), Urziceni=(456, 350),\n",
    "    Vaslui=(509, 444), Zerind=(108, 531),\n",
    ")"
   ]
  },
  {
   "cell_type": "code",
   "execution_count": 25,
   "metadata": {},
   "outputs": [],
   "source": [
    "def distance(p1: tuple, p2: tuple) -> float:\n",
    "    V = list(zip(p1, p2))\n",
    "    V = [(i-j)**2 for i, j in V]\n",
    "    return np.sqrt(np.sum(V))\n",
    "\n",
    "def objective_func(X: tuple[int, int]) -> float:\n",
    "    dis_lst = [distance(X, city)**2 for city in romania_map_locations.values()]\n",
    "    return np.sqrt(np.sum(dis_lst))"
   ]
  },
  {
   "cell_type": "code",
   "execution_count": 19,
   "metadata": {},
   "outputs": [],
   "source": [
    "def geradient(X):\n",
    "    gx1 = [2 * X[0] * (X[0] - x1c)  for x1c, _ in romania_map_locations.values()]\n",
    "    gx2 = [2 * X[0] * (X[1] - x2c) for _, x2c in romania_map_locations.values()]\n",
    "    return np.array([np.sum(gx1), np.sum(gx2)])\n",
    "\n",
    "def geradient_descent(x, max_iter=100, l_rate=0.0001):\n",
    "    for _ in range(max_iter):\n",
    "        x -= l_rate * geradient(x) \n",
    "    return x"
   ]
  },
  {
   "cell_type": "code",
   "execution_count": 34,
   "metadata": {},
   "outputs": [
    {
     "name": "stdout",
     "output_type": "stream",
     "text": [
      "befor: 1053.9976280808226\n",
      "after: 792.6630747045052\n"
     ]
    }
   ],
   "source": [
    "x = (143, 417)\n",
    "y = geradient_descent(x)\n",
    "print(\n",
    "    f\"befor: {objective_func(x)}\",\n",
    "    f\"after: {objective_func(y)}\",\n",
    "    sep=\"\\n\"\n",
    ")"
   ]
  }
 ],
 "metadata": {
  "kernelspec": {
   "display_name": "mlenv",
   "language": "python",
   "name": "python3"
  },
  "language_info": {
   "codemirror_mode": {
    "name": "ipython",
    "version": 3
   },
   "file_extension": ".py",
   "mimetype": "text/x-python",
   "name": "python",
   "nbconvert_exporter": "python",
   "pygments_lexer": "ipython3",
   "version": "3.12.3"
  }
 },
 "nbformat": 4,
 "nbformat_minor": 2
}
