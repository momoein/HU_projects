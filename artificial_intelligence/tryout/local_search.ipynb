{
 "cells": [
  {
   "cell_type": "code",
   "execution_count": 3,
   "metadata": {},
   "outputs": [],
   "source": [
    "import numpy as np"
   ]
  },
  {
   "cell_type": "code",
   "execution_count": 103,
   "metadata": {},
   "outputs": [],
   "source": [
    "class Problem:\n",
    "\n",
    "    def __init__(self, initial, goal=None, step=0.1):\n",
    "        self.initial = initial\n",
    "        self.goal = goal\n",
    "        self.step = step\n",
    "\n",
    "    def actions(self, state):\n",
    "        acts = []\n",
    "        s = self.step\n",
    "        acts.extend(list(np.linspace(0, +s, 10)))\n",
    "        acts.extend(list(np.linspace(0, -s, 10)))\n",
    "        return acts\n",
    "\n",
    "    def result(self, state, action):\n",
    "        return state+action\n",
    "\n",
    "    def goal_test(self, state):\n",
    "        return state == self.goal\n",
    "\n",
    "    def value(self, state):\n",
    "        return np.sin(state)\n"
   ]
  },
  {
   "cell_type": "code",
   "execution_count": 121,
   "metadata": {},
   "outputs": [],
   "source": [
    "class Node:\n",
    "    def __init__(self, state, action=None):\n",
    "        self.state = state\n",
    "        self.action = action\n",
    "\n",
    "    def __repr__(self):\n",
    "        return \"<Node {}>\".format(self.state)\n",
    "\n",
    "    def expand(self, problem):\n",
    "        return [self.child_node(problem, action)\n",
    "                for action in problem.actions(self.state)]\n",
    "\n",
    "    def child_node(self, problem, action):\n",
    "        \"\"\"[Figure 3.10]\"\"\"\n",
    "        next_state = problem.result(self.state, action)\n",
    "        next_node = Node(next_state, action)\n",
    "        return next_node\n",
    "    \n",
    "    def __eq__(self, other):\n",
    "        return isinstance(other, Node) and self.state == other.state\n",
    "    \n",
    "    def __lt__(self, other):\n",
    "        return isinstance(other, Node) and self.state < other.state\n",
    "\n",
    "    def __le__(self, other):\n",
    "        return isinstance(other, Node) and self.state <= other.state\n",
    "    \n",
    "    def __hash__(self, f=lambda x: x):\n",
    "        return hash(f(self.state))\n"
   ]
  },
  {
   "cell_type": "code",
   "execution_count": 123,
   "metadata": {},
   "outputs": [],
   "source": [
    "def hill_climbing(problem:Problem, sideway_move=0):\n",
    "    current = Node(problem.initial)\n",
    "    while True:\n",
    "        neighbors = sorted(current.expand(problem))\n",
    "        highest = neighbors[-1]\n",
    "        if problem.value(highest.state) <= problem.value(current.state):\n",
    "            if sideway_move <= 0:\n",
    "                return current\n",
    "            sideway_move -= 1\n",
    "        current = highest"
   ]
  },
  {
   "cell_type": "code",
   "execution_count": 130,
   "metadata": {},
   "outputs": [
    {
     "name": "stdout",
     "output_type": "stream",
     "text": [
      "<Node 1.5700000000000012>\n",
      "1.5707963267948966\n"
     ]
    },
    {
     "data": {
      "text/plain": [
       "0.9999996829318346"
      ]
     },
     "execution_count": 130,
     "metadata": {},
     "output_type": "execute_result"
    }
   ],
   "source": [
    "p = Problem(0, np.pi/2, step=0.01)\n",
    "\n",
    "node = hill_climbing(p)\n",
    "print(node)\n",
    "print(np.pi/2)\n",
    "np.sin(node.state)\n"
   ]
  }
 ],
 "metadata": {
  "kernelspec": {
   "display_name": "mlenv",
   "language": "python",
   "name": "python3"
  },
  "language_info": {
   "codemirror_mode": {
    "name": "ipython",
    "version": 3
   },
   "file_extension": ".py",
   "mimetype": "text/x-python",
   "name": "python",
   "nbconvert_exporter": "python",
   "pygments_lexer": "ipython3",
   "version": "3.10.12"
  }
 },
 "nbformat": 4,
 "nbformat_minor": 2
}
