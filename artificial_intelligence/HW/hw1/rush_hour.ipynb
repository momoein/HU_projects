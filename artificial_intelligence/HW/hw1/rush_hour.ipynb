{
 "cells": [
  {
   "cell_type": "code",
   "execution_count": 10,
   "metadata": {},
   "outputs": [],
   "source": [
    "import numpy as np\n",
    "from queue import Queue\n",
    "\n",
    "from utils import Problem, Node, PriorityQueue"
   ]
  },
  {
   "cell_type": "markdown",
   "metadata": {},
   "source": [
    "## modeling of problem"
   ]
  },
  {
   "cell_type": "code",
   "execution_count": 11,
   "metadata": {},
   "outputs": [],
   "source": [
    "class RushHour(Problem):\n",
    "    def __init__(self, initial, car_code, cars_list) -> None:\n",
    "        self.initial = initial\n",
    "        self.car_code = car_code\n",
    "        self.cars_list = cars_list\n",
    "\n",
    "\n",
    "    def goal_test(self, parking) -> bool:\n",
    "        car_pos = np.argwhere(parking == self.car_code)\n",
    "        row, col = tuple(car_pos[-1])\n",
    "        if self.is_horizontal(parking, self.car_code):\n",
    "            return all(parking[row, col+1:] == 0)\n",
    "        if self.is_vertical(parking, self.car_code):\n",
    "            return all(parking[row+1:, col] == 0)\n",
    "\n",
    "    def actions(self, parking) -> list[tuple]:\n",
    "        actions_list = []\n",
    "        for car in self.cars_list:\n",
    "            movements = self.allowed_movements(parking, car)\n",
    "            for move in movements:\n",
    "                actions_list.append((car, move))\n",
    "        return actions_list\n",
    "\n",
    "    def result(self, state, action) -> np.ndarray:\n",
    "        p = state.copy()\n",
    "        car_code, move = action\n",
    "        self.car_move(p, car_code, move)\n",
    "        return p\n",
    "\n",
    "\n",
    "    def allowed_movements(self, parking, car_code) -> list:\n",
    "        allowed_moves = []\n",
    "        if self.is_horizontal(parking, car_code):\n",
    "            pos = np.argwhere(parking == car_code)\n",
    "            L_row, L_col = tuple(pos[0])\n",
    "            R_row, R_col = tuple(pos[-1])\n",
    "            if L_col > 0 and parking[L_row, L_col-1] == 0:\n",
    "                allowed_moves.append(\"L\")\n",
    "            if R_col < parking.shape[1]-1 and parking[R_row, R_col+1] == 0:\n",
    "                allowed_moves.append(\"R\")\n",
    "\n",
    "        if self.is_vertical(parking, car_code):\n",
    "            pos = np.argwhere(parking == car_code)\n",
    "            U_row, U_col = tuple(pos[0])\n",
    "            D_row, D_col = tuple(pos[-1])\n",
    "            if U_row > 0 and parking[U_row-1, U_col] == 0:\n",
    "                allowed_moves.append(\"U\")\n",
    "            if D_row < parking.shape[0]-1 and parking[D_row+1, D_col] == 0:\n",
    "                allowed_moves.append(\"D\")\n",
    "\n",
    "        return allowed_moves\n",
    "\n",
    "    def car_move(self, parking, car_code, side: str):\n",
    "        movements = {\n",
    "            \"U\": self.move_up,\n",
    "            \"D\": self.move_down,\n",
    "            \"L\": self.move_left, \n",
    "            \"R\": self.move_right,\n",
    "        }\n",
    "        key = side.upper()\n",
    "        if key in movements:\n",
    "            movements[key](parking, car_code)\n",
    "\n",
    "    def move_left(self, parking, car_code):\n",
    "        pos = np.argwhere(parking == car_code)\n",
    "        R_row, R_column = tuple(pos[-1])\n",
    "        L_row, L_column = tuple(pos[0])\n",
    "        parking[R_row, R_column] = 0\n",
    "        parking[L_row, L_column-1] = car_code\n",
    "\n",
    "    def move_right(self, parking, car_code):\n",
    "        pos = np.argwhere(parking == car_code)\n",
    "        R_row, R_column = tuple(pos[-1])\n",
    "        L_row, L_column = tuple(pos[0])\n",
    "        parking[R_row, R_column+1] = car_code\n",
    "        parking[L_row, L_column] = 0\n",
    "\n",
    "    def move_up(self, parking, car_code):\n",
    "        pos = np.argwhere(parking == car_code)\n",
    "        D_row, D_column = tuple(pos[-1])\n",
    "        U_row, U_column = tuple(pos[0])\n",
    "        parking[D_row, D_column] = 0\n",
    "        parking[U_row-1, U_column] = car_code\n",
    "\n",
    "    def move_down(self, parking, car_code):\n",
    "        pos = np.argwhere(parking == car_code)\n",
    "        D_row, D_column = tuple(pos[-1])\n",
    "        U_row, U_column = tuple(pos[0])\n",
    "        parking[D_row+1, D_column] = car_code\n",
    "        parking[U_row, U_column] = 0\n",
    "\n",
    "    def is_vertical(self, parking, car_code: int) -> bool:\n",
    "        pos = np.argwhere(parking == car_code)\n",
    "        if pos.size > 0:\n",
    "            return np.all(pos[:, 1] == pos[0, 1]) # vertical\n",
    "        return False\n",
    "\n",
    "    def is_horizontal(self, parking, car_code: int) -> bool:\n",
    "        pos = np.argwhere(parking == car_code)\n",
    "        if pos.size > 0:\n",
    "            return np.all(pos[:, 0] == pos[0, 0]) # horizontal\n",
    "        return False\n",
    "\n",
    "    def heuristic(self, parking) -> int:\n",
    "        car_pos = np.argwhere(parking == self.car_code)\n",
    "        row, col = tuple(car_pos[-1])\n",
    "        if self.is_horizontal(parking, self.car_code):\n",
    "            return sum(parking[row, col+1:] != 0)\n",
    "        if self.is_vertical(parking, self.car_code):\n",
    "            return sum(parking[row+1:, col] != 0)\n",
    "        \n",
    "    def h(self, node) -> int:\n",
    "        return self.heuristic(node.state)"
   ]
  },
  {
   "cell_type": "markdown",
   "metadata": {},
   "source": [
    "## search algorithms"
   ]
  },
  {
   "cell_type": "code",
   "execution_count": 12,
   "metadata": {},
   "outputs": [],
   "source": [
    "def bfs(problem):\n",
    "    initial = Node(problem.initial)\n",
    "    frontiar = Queue()\n",
    "    frontiar.put(initial)\n",
    "    explored = set()\n",
    "\n",
    "    while not frontiar.empty():\n",
    "        current: Node = frontiar.get(timeout=0)\n",
    "        explored.add(str(current.state))\n",
    "\n",
    "        if problem.goal_test(current.state):\n",
    "            return current\n",
    "        \n",
    "        for child in current.expand(problem):\n",
    "            if str(child.state) not in explored:\n",
    "                frontiar.put(child)\n",
    "    return None"
   ]
  },
  {
   "cell_type": "code",
   "execution_count": 13,
   "metadata": {},
   "outputs": [],
   "source": [
    "def aStar(problem: Problem, wight=1.0, display=False, graph_search=True) -> Node | None:\n",
    "    h = problem.h \n",
    "    frontier = PriorityQueue()\n",
    "    explored = set()\n",
    "    node = Node(problem.initial)\n",
    "    frontier.push(node, wight*h(node) + node.path_cost)\n",
    "    c = 0\n",
    "    while not frontier.isEmpty():\n",
    "        node: Node = frontier.pop()\n",
    "        if graph_search:\n",
    "            explored.add(str(node.state))\n",
    "        \n",
    "        if problem.goal_test(node.state):\n",
    "            if display:\n",
    "                print(\"frontier count:\", frontier.count)\n",
    "                print(\"expanded nodes:\", c)\n",
    "                print(f\"< goal state:\\n{node.state} >\")\n",
    "            return node\n",
    "        \n",
    "        for child in node.expand(problem):\n",
    "            if str(child.state) not in explored:\n",
    "                frontier.push(child, wight*h(node) + node.path_cost)\n",
    "        c += 1\n",
    "    return None"
   ]
  },
  {
   "cell_type": "markdown",
   "metadata": {},
   "source": [
    "## run of algorithms"
   ]
  },
  {
   "cell_type": "code",
   "execution_count": 14,
   "metadata": {},
   "outputs": [
    {
     "name": "stdout",
     "output_type": "stream",
     "text": [
      "[[0 0 2 0 5 5]\n",
      " [0 0 2 3 4 0]\n",
      " [0 1 1 3 4 0]\n",
      " [0 0 0 3 6 6]\n",
      " [0 0 0 0 0 0]\n",
      " [0 0 0 0 0 0]]\n"
     ]
    }
   ],
   "source": [
    "## set initial parameters\n",
    "parking = np.zeros((6, 6), dtype=int)\n",
    "parking[2, 1:3] = 1\n",
    "parking[0:2, 2] = 2\n",
    "parking[1:4, 3] = 3\n",
    "parking[1:3, 4] = 4\n",
    "parking[0, 4:] = 5\n",
    "parking[3, 4:] = 6\n",
    "# parking[4, 3:] = 7\n",
    "\n",
    "print(parking)\n",
    "cars = [1, 2, 3, 4, 5, 6, 7]\n",
    "problem1 = RushHour(parking, 1, cars)"
   ]
  },
  {
   "cell_type": "code",
   "execution_count": 15,
   "metadata": {},
   "outputs": [
    {
     "name": "stdout",
     "output_type": "stream",
     "text": [
      "[[ 0  0  2  5  5  5]\n",
      " [ 0  0  2  8  0  0]\n",
      " [ 1  1  3  8  0  7]\n",
      " [ 4  4  3  6  6  7]\n",
      " [ 9 10  0  0  0  7]\n",
      " [ 9 10  0  0  0  0]]\n"
     ]
    }
   ],
   "source": [
    "## set initial parameters\n",
    "parking = np.zeros((6, 6), dtype=int)\n",
    "parking[2, 0:2] = 1  # A\n",
    "parking[0:2, 2] = 2  # I\n",
    "parking[2:4, 2] = 3  # J\n",
    "parking[3, 0:2] = 4  # C\n",
    "parking[0, 3:] = 5   # B\n",
    "parking[3, 3:5] = 6  # D\n",
    "parking[2:5, 5] = 7  # L\n",
    "parking[1:3, 3] = 8  # K\n",
    "parking[4:, 0] = 9   # G\n",
    "parking[4:, 1] = 10  # H\n",
    "\n",
    "print(parking)\n",
    "cars = [1, 2, 3, 4, 5, 6, 7, 8, 9, 10]\n",
    "problem2 = RushHour(parking, 1, cars)"
   ]
  },
  {
   "cell_type": "code",
   "execution_count": 16,
   "metadata": {},
   "outputs": [
    {
     "name": "stdout",
     "output_type": "stream",
     "text": [
      "frontier count: 8875\n",
      "expanded nodes: 2887\n",
      "< goal state:\n",
      "[[0 0 2 0 5 5]\n",
      " [0 0 2 0 0 0]\n",
      " [0 1 1 0 0 0]\n",
      " [0 6 6 3 4 0]\n",
      " [0 0 0 3 4 0]\n",
      " [0 0 0 3 0 0]] >\n",
      "path length: 10\n"
     ]
    }
   ],
   "source": [
    "## A* search\n",
    "res = aStar(problem1, wight=1, display=True)\n",
    "path = res.path()\n",
    "print(\"path length:\", len(path))\n",
    "# print(path)"
   ]
  },
  {
   "cell_type": "code",
   "execution_count": 17,
   "metadata": {},
   "outputs": [
    {
     "name": "stdout",
     "output_type": "stream",
     "text": [
      "frontier count: 1736\n",
      "expanded nodes: 684\n",
      "< goal state:\n",
      "[[0 0 2 0 5 5]\n",
      " [0 0 2 0 0 0]\n",
      " [0 1 1 0 0 0]\n",
      " [0 6 6 3 4 0]\n",
      " [0 0 0 3 4 0]\n",
      " [0 0 0 3 0 0]] >\n",
      "path length: 10\n"
     ]
    }
   ],
   "source": [
    "## wighted A* search\n",
    "res = aStar(problem1, wight=1.1, display=True)\n",
    "path = res.path()\n",
    "print(\"path length:\", len(path))\n",
    "# print(path)"
   ]
  },
  {
   "cell_type": "code",
   "execution_count": 18,
   "metadata": {},
   "outputs": [
    {
     "name": "stdout",
     "output_type": "stream",
     "text": [
      "[[0 0 5 5 4 0]\n",
      " [0 0 0 0 4 0]\n",
      " [1 1 0 0 0 0]\n",
      " [0 0 2 3 6 6]\n",
      " [0 0 2 3 0 0]\n",
      " [0 0 0 3 0 0]]\n",
      "path length: 10\n"
     ]
    }
   ],
   "source": [
    "## bfs\n",
    "res = bfs(problem1)\n",
    "print(res.state)\n",
    "path = res.path()\n",
    "print(\"path length:\", len(path))\n",
    "# print(path)"
   ]
  }
 ],
 "metadata": {
  "kernelspec": {
   "display_name": "mlenv",
   "language": "python",
   "name": "python3"
  },
  "language_info": {
   "codemirror_mode": {
    "name": "ipython",
    "version": 3
   },
   "file_extension": ".py",
   "mimetype": "text/x-python",
   "name": "python",
   "nbconvert_exporter": "python",
   "pygments_lexer": "ipython3",
   "version": "3.10.12"
  }
 },
 "nbformat": 4,
 "nbformat_minor": 2
}
