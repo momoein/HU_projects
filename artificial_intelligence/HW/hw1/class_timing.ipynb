{
 "cells": [
  {
   "cell_type": "code",
   "execution_count": 1,
   "metadata": {},
   "outputs": [],
   "source": [
    "import numpy as np\n",
    "from copy import deepcopy\n",
    "\n",
    "from utils import Node, Problem"
   ]
  },
  {
   "cell_type": "markdown",
   "metadata": {},
   "source": [
    "## functional testing"
   ]
  },
  {
   "cell_type": "code",
   "execution_count": 2,
   "metadata": {},
   "outputs": [],
   "source": [
    "students = [\"s\"+str(i) for i in range(1, 51)]\n",
    "random_studs = [list(np.random.choice(students, 9, replace=False)) for _ in range(10)]\n",
    "# teachers = [\"t\"+str(i) for i in range(1, 11)]\n",
    "\n",
    "def empty_week_table():\n",
    "    days = \"saturday sunday monday tuesday wednesday thursday\".split()\n",
    "    week = {}\n",
    "    for day in days:\n",
    "        week.setdefault(day[:3], dict())\n",
    "    for k, v in week.items():\n",
    "        [v.setdefault(str(i), []) for i in range(8, 18, 2)]\n",
    "    return week\n",
    "\n",
    "def make_random_limitation():\n",
    "    random_week = empty_week_table()\n",
    "    c = [\"c\"+str(i) for i in range(1, 6)]\n",
    "    for key, val in random_week.items():\n",
    "        for k, v in val.items():\n",
    "            random_week[key][k] = list(np.random.choice(c, np.random.randint(0, 6), replace=False))\n",
    "    return random_week\n",
    "\n",
    "def random_courses() -> dict:\n",
    "    students = [\"s\"+str(i) for i in range(1, 51)]\n",
    "    courses_list = [\"c\"+str(i) for i in range(1, 11)]\n",
    "    random_studs = [list(np.random.choice(students, 9, replace=False)) for _ in range(10)]\n",
    "    courses = {}\n",
    "    for idx in range(len(courses_list)):\n",
    "        cours = courses_list[idx]\n",
    "        courses[cours] = random_studs[idx]\n",
    "    return courses\n",
    "\n",
    "\n",
    "week = empty_week_table()\n",
    "# random_courses()"
   ]
  },
  {
   "cell_type": "code",
   "execution_count": 3,
   "metadata": {},
   "outputs": [],
   "source": [
    "courses_wight = {\"c1\": 2, \"c2\": 1,\"c3\": 2, \"c4\": 1, \"c5\": 2, \"c6\": 3, \"c7\": 2, \"c8\": 1, \"c9\": 3, \"c10\": 3}\n",
    "\n",
    "\n",
    "courses = {\n",
    "    \"c1\": ['s42', 's15', 's2', 's6', 's48', 's8', 's19', 's37', 's40'], \n",
    "    \"c2\": ['s49', 's39', 's3', 's23', 's8', 's27', 's47', 's6', 's48'],\n",
    "    \"c3\": ['s34', 's43', 's14', 's30', 's35', 's48', 's11', 's24', 's28'],\n",
    "    \"c4\": ['s21', 's18', 's15', 's5', 's2', 's30', 's34', 's46', 's23'],\n",
    "    \"c5\": ['s9', 's28', 's35', 's18', 's20', 's16', 's37', 's50', 's40'],\n",
    "}\n",
    "\n",
    "courses = random_courses()\n",
    "\n",
    "limitation = {\n",
    "    'sat': {\n",
    "        '8': ['c5', 'c2'],\n",
    "        '10': [], \n",
    "        '12': ['c5', 'c2', 'c4', 'c3', 'c1'], \n",
    "        '14': ['c5', 'c4'],\n",
    "        '16': ['c3', 'c5']\n",
    "        },\n",
    "    'sun': {\n",
    "        '8': ['c4', 'c2'], \n",
    "        '10': [], \n",
    "        '12': ['c1', 'c2', 'c4', 'c3'], \n",
    "        '14': ['c1', 'c3'], \n",
    "        '16': []\n",
    "        },\n",
    "    'mon': {\n",
    "        '8': ['c5'], \n",
    "        '10': ['c3'], \n",
    "        '12': ['c2', 'c1', 'c4', 'c3', 'c5'], \n",
    "        '14': ['c1', 'c4', 'c5', 'c3', 'c2'], \n",
    "        '16': ['c1', 'c3']\n",
    "        },\n",
    "    'tue': {\n",
    "        '8': ['c1', 'c5'], \n",
    "        '10': ['c2', 'c3'], \n",
    "        '12': ['c5', 'c2'], \n",
    "        '14': ['c4', 'c2', 'c5', 'c1'], \n",
    "        '16': ['c3']\n",
    "        },\n",
    "    'wed': {\n",
    "        '8': ['c5'], \n",
    "        '10': ['c4', 'c5', 'c1', 'c2', 'c3'], \n",
    "        '12': ['c4', 'c1', 'c5'], \n",
    "        '14': ['c2', 'c1', 'c5', 'c4', 'c3'], \n",
    "        '16': []\n",
    "        },\n",
    "    'thu': {\n",
    "        '8': ['c5', 'c1', 'c3', 'c4', 'c2'], \n",
    "        '10': ['c5'], \n",
    "        '12': ['c1', 'c3', 'c5', 'c4', 'c2'], \n",
    "        '14': ['c1'], \n",
    "        '16': []\n",
    "        },\n",
    "}\n",
    "\n",
    "num_rooms = 3"
   ]
  },
  {
   "cell_type": "code",
   "execution_count": 4,
   "metadata": {},
   "outputs": [
    {
     "name": "stdout",
     "output_type": "stream",
     "text": [
      "[('sat', '8'), ('sat', '10'), ('sat', '12'), ('sat', '14'), ('sat', '16'), ('sun', '8'), ('sun', '10'), ('sun', '12'), ('sun', '14'), ('sun', '16'), ('mon', '8'), ('mon', '10'), ('mon', '12'), ('mon', '14'), ('mon', '16'), ('tue', '8'), ('tue', '10'), ('tue', '12'), ('tue', '14'), ('tue', '16'), ('wed', '8'), ('wed', '10'), ('wed', '12'), ('wed', '14'), ('wed', '16'), ('thu', '8'), ('thu', '10'), ('thu', '12'), ('thu', '14'), ('thu', '16')]\n"
     ]
    }
   ],
   "source": [
    "def get_all_day_hour(week):\n",
    "    all_hours = []\n",
    "    for day in week:\n",
    "        for hour in week[day]:\n",
    "            all_hours.append((day, hour))\n",
    "    return all_hours\n",
    "print(get_all_day_hour(week))"
   ]
  },
  {
   "cell_type": "code",
   "execution_count": 5,
   "metadata": {},
   "outputs": [
    {
     "data": {
      "text/plain": [
       "{'sat': {'8': ['c1', 'c3', 'c4', 'c6', 'c7', 'c8', 'c9', 'c10'],\n",
       "  '10': ['c1', 'c2', 'c3', 'c4', 'c5', 'c6', 'c7', 'c8', 'c9', 'c10'],\n",
       "  '12': ['c6', 'c7', 'c8', 'c9', 'c10'],\n",
       "  '14': ['c1', 'c2', 'c3', 'c6', 'c7', 'c8', 'c9', 'c10'],\n",
       "  '16': ['c1', 'c2', 'c4', 'c6', 'c7', 'c8', 'c9', 'c10']},\n",
       " 'sun': {'8': ['c1', 'c3', 'c5', 'c6', 'c7', 'c8', 'c9', 'c10'],\n",
       "  '10': ['c1', 'c2', 'c3', 'c4', 'c5', 'c6', 'c7', 'c8', 'c9', 'c10'],\n",
       "  '12': ['c5', 'c6', 'c7', 'c8', 'c9', 'c10'],\n",
       "  '14': ['c2', 'c4', 'c5', 'c6', 'c7', 'c8', 'c9', 'c10'],\n",
       "  '16': ['c1', 'c2', 'c3', 'c4', 'c5', 'c6', 'c7', 'c8', 'c9', 'c10']},\n",
       " 'mon': {'8': ['c1', 'c2', 'c3', 'c4', 'c6', 'c7', 'c8', 'c9', 'c10'],\n",
       "  '10': ['c1', 'c2', 'c4', 'c5', 'c6', 'c7', 'c8', 'c9', 'c10'],\n",
       "  '12': ['c6', 'c7', 'c8', 'c9', 'c10'],\n",
       "  '14': ['c6', 'c7', 'c8', 'c9', 'c10'],\n",
       "  '16': ['c2', 'c4', 'c5', 'c6', 'c7', 'c8', 'c9', 'c10']},\n",
       " 'tue': {'8': ['c2', 'c3', 'c4', 'c6', 'c7', 'c8', 'c9', 'c10'],\n",
       "  '10': ['c1', 'c4', 'c5', 'c6', 'c7', 'c8', 'c9', 'c10'],\n",
       "  '12': ['c1', 'c3', 'c4', 'c6', 'c7', 'c8', 'c9', 'c10'],\n",
       "  '14': ['c3', 'c6', 'c7', 'c8', 'c9', 'c10'],\n",
       "  '16': ['c1', 'c2', 'c4', 'c5', 'c6', 'c7', 'c8', 'c9', 'c10']},\n",
       " 'wed': {'8': ['c1', 'c2', 'c3', 'c4', 'c6', 'c7', 'c8', 'c9', 'c10'],\n",
       "  '10': ['c6', 'c7', 'c8', 'c9', 'c10'],\n",
       "  '12': ['c2', 'c3', 'c6', 'c7', 'c8', 'c9', 'c10'],\n",
       "  '14': ['c6', 'c7', 'c8', 'c9', 'c10'],\n",
       "  '16': ['c1', 'c2', 'c3', 'c4', 'c5', 'c6', 'c7', 'c8', 'c9', 'c10']},\n",
       " 'thu': {'8': ['c6', 'c7', 'c8', 'c9', 'c10'],\n",
       "  '10': ['c1', 'c2', 'c3', 'c4', 'c6', 'c7', 'c8', 'c9', 'c10'],\n",
       "  '12': ['c6', 'c7', 'c8', 'c9', 'c10'],\n",
       "  '14': ['c2', 'c3', 'c4', 'c5', 'c6', 'c7', 'c8', 'c9', 'c10'],\n",
       "  '16': ['c1', 'c2', 'c3', 'c4', 'c5', 'c6', 'c7', 'c8', 'c9', 'c10']}}"
      ]
     },
     "execution_count": 5,
     "metadata": {},
     "output_type": "execute_result"
    }
   ],
   "source": [
    "def free_times(courses, limitation):\n",
    "    free_days = empty_week_table()\n",
    "    for day in free_days:\n",
    "        for hour in free_days[day]:\n",
    "            free_days[day][hour] = [i for i in courses.keys() if i not in limitation[day][hour]]\n",
    "    return free_days\n",
    "\n",
    "free_times(courses, limitation)"
   ]
  },
  {
   "cell_type": "code",
   "execution_count": 6,
   "metadata": {},
   "outputs": [
    {
     "data": {
      "text/plain": [
       "{'sat': {'8': ['c3', 'c9', 'c8'],\n",
       "  '10': ['c2', 'c7', 'c8'],\n",
       "  '12': ['c9', 'c8', 'c6'],\n",
       "  '14': ['c3', 'c7', 'c9'],\n",
       "  '16': ['c6', 'c2', 'c7']},\n",
       " 'sun': {'8': ['c10', 'c3', 'c1'],\n",
       "  '10': ['c8', 'c6', 'c4'],\n",
       "  '12': ['c10', 'c5', 'c9'],\n",
       "  '14': ['c4', 'c2', 'c9'],\n",
       "  '16': ['c5', 'c8', 'c9']},\n",
       " 'mon': {'8': ['c1', 'c7', 'c9'],\n",
       "  '10': ['c5', 'c2', 'c10'],\n",
       "  '12': ['c7', 'c10', 'c9'],\n",
       "  '14': ['c10', 'c9', 'c6'],\n",
       "  '16': ['c10', 'c4', 'c2']},\n",
       " 'tue': {'8': ['c8', 'c7', 'c2'],\n",
       "  '10': ['c8', 'c9', 'c10'],\n",
       "  '12': ['c1', 'c7', 'c3'],\n",
       "  '14': ['c7', 'c9', 'c10'],\n",
       "  '16': ['c8', 'c4', 'c1']},\n",
       " 'wed': {'8': ['c1', 'c7', 'c3'],\n",
       "  '10': ['c6', 'c8', 'c9'],\n",
       "  '12': ['c10', 'c8', 'c3'],\n",
       "  '14': ['c7', 'c6', 'c9'],\n",
       "  '16': ['c4', 'c8', 'c3']},\n",
       " 'thu': {'8': ['c7', 'c8', 'c10'],\n",
       "  '10': ['c8', 'c4', 'c7'],\n",
       "  '12': ['c10', 'c9', 'c8'],\n",
       "  '14': ['c4', 'c6', 'c2'],\n",
       "  '16': ['c3', 'c2', 'c6']}}"
      ]
     },
     "execution_count": 6,
     "metadata": {},
     "output_type": "execute_result"
    }
   ],
   "source": [
    "def random_next_child(free_times, num_rooms):\n",
    "    week = empty_week_table()\n",
    "    for day in free_times:\n",
    "        for hour in free_times[day]:\n",
    "            n = len(free_times[day][hour])\n",
    "            week[day][hour] = list(\n",
    "                list(np.random.choice(free_times[day][hour], min(n, num_rooms), replace=False))\n",
    "            )\n",
    "    return week\n",
    "\n",
    "ft = free_times(courses, limitation)\n",
    "random_next_child(ft, num_rooms)"
   ]
  },
  {
   "cell_type": "code",
   "execution_count": 7,
   "metadata": {},
   "outputs": [],
   "source": [
    "def power_set(array):\n",
    "    if len(array) <= 1:\n",
    "        return array\n",
    "    n_th = array[-1]\n",
    "    set = power_set(array[:-1])\n",
    "    # creat power set for new list\n",
    "    new = []\n",
    "    for i in set:\n",
    "        if type(i) is not list:\n",
    "            new.append([i, n_th])\n",
    "        else:\n",
    "            new.append(i + [n_th])\n",
    "    # combine old set and new set\n",
    "    set = set + [n_th] + new\n",
    "    return set"
   ]
  },
  {
   "cell_type": "code",
   "execution_count": 8,
   "metadata": {},
   "outputs": [
    {
     "data": {
      "text/plain": [
       "['c1', 'c2', ['c1', 'c2'], 'c3', ['c1', 'c3'], ['c2', 'c3']]"
      ]
     },
     "execution_count": 8,
     "metadata": {},
     "output_type": "execute_result"
    }
   ],
   "source": [
    "a = ['c1', 'c2','c3']\n",
    "ps = power_set(a)\n",
    "[i for i in ps if isinstance(i, list) and len(i) <= 2 or not isinstance(i, list)]"
   ]
  },
  {
   "cell_type": "code",
   "execution_count": 9,
   "metadata": {},
   "outputs": [],
   "source": [
    "def actions():\n",
    "    week_table = free_times(courses, limitation)\n",
    "    next_states = []\n",
    "    for day in week_table:\n",
    "        for hour in week_table[day]:\n",
    "            ps = power_set(week_table[day][hour])\n",
    "            ps = [i for i in ps if isinstance(i, list) and len(i) <= num_rooms or not isinstance(i, list)]\n",
    "            for item in ps:\n",
    "                if not isinstance(item, list):\n",
    "                    item = [item]\n",
    "                # print(copy_table[day][hour], item)\n",
    "                copy_table = deepcopy(week_table)\n",
    "                copy_table[day][hour] = item\n",
    "                next_states.append(copy_table)\n",
    "    return next_states\n",
    "\n",
    "# for i in actions():\n",
    "#     print(i)"
   ]
  },
  {
   "cell_type": "code",
   "execution_count": 10,
   "metadata": {},
   "outputs": [],
   "source": [
    "def possible_states():\n",
    "    week_table = free_times(courses, limitation)\n",
    "    for day in week_table:\n",
    "        for hour in week_table[day]:\n",
    "            ps = power_set(week_table[day][hour])\n",
    "            week_table[day][hour] = [\n",
    "                i for i in ps if isinstance(i, list) and len(i) <= num_rooms or not isinstance(i, list)\n",
    "                ]\n",
    "    return week_table\n",
    "\n",
    "# possible_states()"
   ]
  },
  {
   "cell_type": "code",
   "execution_count": 11,
   "metadata": {},
   "outputs": [
    {
     "data": {
      "text/plain": [
       "33"
      ]
     },
     "execution_count": 11,
     "metadata": {},
     "output_type": "execute_result"
    }
   ],
   "source": [
    "def num_of_collision_in_hour(courses_in_hour: list):\n",
    "    lst = []\n",
    "    for cours in courses_in_hour:\n",
    "        lst += courses[cours]\n",
    "    stus = set()\n",
    "    for item in lst:\n",
    "        stus.add(item)\n",
    "    return len(lst) - len(stus)\n",
    "\n",
    "def num_of_collision_in_week(week: dict):\n",
    "    num = 0\n",
    "    for day in week:\n",
    "        for hour in week[day]:\n",
    "            courses_in_hour = week[day][hour]\n",
    "            num += num_of_collision_in_hour(courses_in_hour)\n",
    "    return num\n",
    "\n",
    "ft = free_times(courses, limitation)\n",
    "keys = ft[\"sat\"][\"8\"]\n",
    "num_of_collision_in_hour(keys)"
   ]
  },
  {
   "cell_type": "code",
   "execution_count": 12,
   "metadata": {},
   "outputs": [
    {
     "data": {
      "text/plain": [
       "14"
      ]
     },
     "execution_count": 12,
     "metadata": {},
     "output_type": "execute_result"
    }
   ],
   "source": [
    "def random_state():\n",
    "    new_week = empty_week_table()\n",
    "    cours_list = list(courses.keys())\n",
    "    all_hours = get_all_day_hour(empty_week_table())\n",
    "    for i in range(len(cours_list)):\n",
    "        cours = cours_list[i]\n",
    "        for _ in range(courses_wight[cours]):\n",
    "            while True:\n",
    "                idx = np.random.randint(0, len(all_hours))\n",
    "                day, hour = all_hours[idx]\n",
    "                if cours not in limitation[day][hour] \\\n",
    "                and cours not in new_week[day][hour] \\\n",
    "                and len(new_week[day][hour]) < num_rooms:\n",
    "                    new_week[day][hour].append(cours)\n",
    "                    break\n",
    "    return new_week\n",
    "    \n",
    "new_week = random_state()\n",
    "num_of_collision_in_week(new_week)"
   ]
  },
  {
   "cell_type": "markdown",
   "metadata": {},
   "source": [
    "## problem modeling"
   ]
  },
  {
   "cell_type": "code",
   "execution_count": 13,
   "metadata": {},
   "outputs": [],
   "source": [
    "class Timing(Problem):\n",
    "    def __init__(self, initial, courses, courses_wight, limitation, num_rooms=2):\n",
    "        self.initial = initial\n",
    "        self.courses = courses\n",
    "        self.courses_wight = courses_wight\n",
    "        self.limitation = limitation\n",
    "        self.num_rooms = num_rooms\n",
    "        self.free_times = self._free_times(self.courses, self.limitation)\n",
    "        self.all_hours = self.get_all_day_hour(initial)\n",
    "\n",
    "    def actions(self, state):\n",
    "        return [None] * 10\n",
    "    \n",
    "    def result(self, state, action):\n",
    "        return self.random_state()\n",
    "\n",
    "    def random_state(self):\n",
    "        new_week = empty_week_table()\n",
    "        cours_list = list(self.courses.keys())\n",
    "        for i in range(len(cours_list)):\n",
    "            cours = cours_list[i]\n",
    "            for _ in range(self.courses_wight[cours]):\n",
    "                while True:\n",
    "                    idx = np.random.randint(0, len(self.all_hours))\n",
    "                    day, hour = self.all_hours[idx]\n",
    "                    if cours not in limitation[day][hour] \\\n",
    "                    and cours not in new_week[day][hour] \\\n",
    "                    and len(new_week[day][hour]) < num_rooms:\n",
    "                        new_week[day][hour].append(cours)\n",
    "                        break\n",
    "        return new_week    \n",
    "\n",
    "    def random_next_child(self):\n",
    "        week = empty_week_table()\n",
    "        for day in self.free_times:\n",
    "            for hour in self.free_times[day]:\n",
    "                n = len(self.free_times[day][hour])\n",
    "                week[day][hour] = list(\n",
    "                    list(np.random.choice(self.free_times[day][hour], min(n, self.num_rooms), replace=False))\n",
    "                )\n",
    "        return week\n",
    "        \n",
    "    def _free_times(self, courses:dict, limitation:dict):\n",
    "        free_days = empty_week_table()\n",
    "        for day in free_days:\n",
    "            for hour in free_days[day]:\n",
    "                free_days[day][hour] = [i for i in courses.keys() if i not in limitation[day][hour]]\n",
    "        return free_days\n",
    "    \n",
    "    def get_all_day_hour(self, week):\n",
    "        all_hours = []\n",
    "        for day in week:\n",
    "            for hour in week[day]:\n",
    "                all_hours.append((day, hour))\n",
    "        return all_hours\n",
    "    \n",
    "    def num_of_collision_in_hour(self, courses_in_hour: list):\n",
    "        lst = []\n",
    "        for cours in courses_in_hour:\n",
    "            lst += courses[cours]\n",
    "        stus = set()\n",
    "        for item in lst:\n",
    "            stus.add(item)\n",
    "        return len(lst) - len(stus)\n",
    "\n",
    "    def num_of_collision_in_week(week: dict):\n",
    "        num = 0\n",
    "        for day in week:\n",
    "            for hour in week[day]:\n",
    "                courses_in_hour = week[day][hour]\n",
    "                num += num_of_collision_in_hour(courses_in_hour)\n",
    "        return num\n",
    "    \n",
    "    def value(self, state):\n",
    "        return - num_of_collision_in_week(state)"
   ]
  },
  {
   "cell_type": "markdown",
   "metadata": {},
   "source": [
    "## search algorithm"
   ]
  },
  {
   "cell_type": "code",
   "execution_count": 34,
   "metadata": {},
   "outputs": [],
   "source": [
    "## book pseudo code\n",
    "def simulated_annealing(problem, schedul=lambda x: 1/(x+1), iter=100):\n",
    "    current = Node(problem.initial)\n",
    "    for t in range(iter):\n",
    "        T = schedul(t)\n",
    "        if T == 0:\n",
    "            return current\n",
    "        neighbors = current.expand(problem)\n",
    "        if not neighbors:\n",
    "            return current.state\n",
    "        next_choice = np.random.choice(neighbors)\n",
    "        delta_e = problem.value(next_choice.state) - problem.value(current.state)\n",
    "        if delta_e > 0:\n",
    "            current = next_choice\n",
    "        else:\n",
    "            if np.random.rand() > delta_e:\n",
    "                current = next_choice\n",
    "    return current"
   ]
  },
  {
   "cell_type": "markdown",
   "metadata": {},
   "source": [
    "## run"
   ]
  },
  {
   "cell_type": "code",
   "execution_count": 32,
   "metadata": {},
   "outputs": [],
   "source": [
    "initial = random_state()\n",
    "problem = Timing(initial, courses, courses_wight, limitation, num_rooms=2)\n",
    "\n",
    "max = problem.value(initial)\n",
    "best = Node(initial)\n",
    "for _ in range(100):\n",
    "    res = simulated_annealing(problem)\n",
    "    value = problem.value(res.state)\n",
    "    if value > max:\n",
    "        max = value \n",
    "        best = res"
   ]
  },
  {
   "cell_type": "code",
   "execution_count": 33,
   "metadata": {},
   "outputs": [
    {
     "data": {
      "text/plain": [
       "-2"
      ]
     },
     "execution_count": 33,
     "metadata": {},
     "output_type": "execute_result"
    }
   ],
   "source": [
    "problem.value(best.state)"
   ]
  }
 ],
 "metadata": {
  "kernelspec": {
   "display_name": "mlenv",
   "language": "python",
   "name": "python3"
  },
  "language_info": {
   "codemirror_mode": {
    "name": "ipython",
    "version": 3
   },
   "file_extension": ".py",
   "mimetype": "text/x-python",
   "name": "python",
   "nbconvert_exporter": "python",
   "pygments_lexer": "ipython3",
   "version": "3.10.12"
  }
 },
 "nbformat": 4,
 "nbformat_minor": 2
}
