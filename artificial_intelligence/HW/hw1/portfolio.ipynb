{
 "cells": [
  {
   "cell_type": "code",
   "execution_count": 1,
   "metadata": {},
   "outputs": [],
   "source": [
    "import numpy as np\n",
    "import sys\n",
    "\n",
    "from utils import Node, Problem"
   ]
  },
  {
   "cell_type": "code",
   "execution_count": 2,
   "metadata": {},
   "outputs": [],
   "source": [
    "def objectiv_func(W, R, lmd=2):\n",
    "    return np.dot(W, R) - lmd * np.sqrt(np.dot(W, W) * np.cov(W))"
   ]
  },
  {
   "cell_type": "code",
   "execution_count": 3,
   "metadata": {},
   "outputs": [],
   "source": [
    "def rand_wight(n=3):\n",
    "    W = []\n",
    "    low = 0\n",
    "    high = 100\n",
    "    for _ in range(n):\n",
    "        rnd = np.random.randint(low, high)\n",
    "        W.append(rnd)\n",
    "        high -= rnd\n",
    "    if np.sum(W) < 100:\n",
    "        W[-1] += 100 - np.sum(W)\n",
    "    return np.array(W, dtype=float)"
   ]
  },
  {
   "cell_type": "markdown",
   "metadata": {},
   "source": [
    "## genetic"
   ]
  },
  {
   "cell_type": "code",
   "execution_count": 4,
   "metadata": {},
   "outputs": [],
   "source": [
    "def one_point_crossover(parent1, parent2):\n",
    "    p1, p2 = list(parent1), list(parent2)\n",
    "    rand = np.random.choice(len(parent1))\n",
    "    child1, child2 = (p1[:rand] + p2[rand:], p2[:rand] + p1[rand:])\n",
    "    return  np.array(child1), np.array(child2)\n",
    "\n",
    "def increase_decrease_crossover(parent1, parent2, rate: float=0.1):\n",
    "    child1, child2 = [], []\n",
    "    for x1, x2 in zip(list(parent1), list(parent2)):\n",
    "        dif = x1 - x2\n",
    "        if dif > 0:\n",
    "            child1.append(x1 - rate * dif)\n",
    "            child2.append(x2 + rate * dif)\n",
    "        else:\n",
    "            child1.append(x1 + rate * dif)\n",
    "            child2.append(x2 - rate * dif)\n",
    "    return  np.array(child1), np.array(child2)\n",
    "\n",
    "def balanced_increase_decrease_crossover(parent1, parent2, rate: float=0.1):\n",
    "    n = len(parent1)\n",
    "    idx = np.random.choice(n)\n",
    "    dif = parent1[idx] - parent2[idx]\n",
    "    dif *= rate\n",
    "    if dif > 0:\n",
    "        parent1[idx] -= dif \n",
    "        parent2[idx] += dif \n",
    "        for i in range(n):\n",
    "            if i != idx:\n",
    "                parent1[i] += dif / (n-1)\n",
    "                parent2[i] -= dif / (n-1)\n",
    "    else:\n",
    "        parent1[idx] += dif \n",
    "        parent2[idx] -= dif \n",
    "        for i in range(n):\n",
    "            if i != idx:\n",
    "                parent1[i] -= dif / (n-1)\n",
    "                parent2[i] += dif / (n-1)\n",
    "    return np.array(parent1), np.array(parent2)"
   ]
  },
  {
   "cell_type": "code",
   "execution_count": 5,
   "metadata": {},
   "outputs": [],
   "source": [
    "def initial_pop(stock_num=3, n=100):\n",
    "    return [rand_wight(stock_num) for _ in range(n)]\n",
    "\n",
    "def fit_min(pop, R):\n",
    "    fmin = min(pop, key=lambda x: objectiv_func(W=x, R=R))\n",
    "    return objectiv_func(fmin, R)\n",
    "\n",
    "def fitness(chorm, fmin, R):\n",
    "    return objectiv_func(W=chorm, R=R) + np.abs(fmin)\n",
    "\n",
    "def crossover(parent1, parent2):\n",
    "    return balanced_increase_decrease_crossover(parent1, parent2)\n",
    "\n",
    "def tournament_selection(pop, R, fmin, T):\n",
    "    idx1, idx2 = tuple(np.random.choice(len(pop), 2, replace=False))\n",
    "    p1, p2 = pop[idx1], pop[idx2]\n",
    "    fi, fj = fitness(p1, fmin, R), fitness(p2, fmin, R)\n",
    "    if np.random.rand() < 1 / (1 + np.exp(-(fi - fj) / T)):\n",
    "        return p1\n",
    "    else:\n",
    "        return p2"
   ]
  },
  {
   "cell_type": "code",
   "execution_count": 6,
   "metadata": {},
   "outputs": [],
   "source": [
    "def run(R, stock_num=3, num_iter=50):\n",
    "    pop = initial_pop(stock_num)\n",
    "    fmin = fit_min(pop, R)\n",
    "    for t in range(1, num_iter):\n",
    "        # selection\n",
    "        mating_pool =  [tournament_selection(pop, R, fmin, t) for _ in range(len(pop))]\n",
    "        # crossover\n",
    "        for _ in range(len(mating_pool)//2):\n",
    "            idx1 = np.random.choice(len(mating_pool), 1)\n",
    "            p1 = mating_pool.pop(idx1[0])\n",
    "            idx2 = np.random.choice(len(mating_pool), 1)\n",
    "            p2 = mating_pool.pop(idx2[0])\n",
    "            pop.extend(list(crossover(p1, p2)))\n",
    "        # survive selection\n",
    "        fmin = fit_min(pop, R)\n",
    "        pop = sorted(pop, key=lambda x: fitness(x, fmin, R))\n",
    "        pop = pop[100:]\n",
    " \n",
    "    return pop[-1], fitness(pop[-1], fmin, R)"
   ]
  },
  {
   "cell_type": "code",
   "execution_count": 59,
   "metadata": {},
   "outputs": [
    {
     "name": "stderr",
     "output_type": "stream",
     "text": [
      "/tmp/ipykernel_5292/3080108440.py:18: RuntimeWarning: overflow encountered in exp\n",
      "  if np.random.rand() < 1 / (1 + np.exp(-(fi - fj) / T)):\n"
     ]
    },
    {
     "name": "stdout",
     "output_type": "stream",
     "text": [
      "solution fitness: 1799.6504360321526\n",
      "solution: [33.33280242 33.33235551 33.33484207]\n",
      "objectiov function: 899.8322116650011\n"
     ]
    }
   ],
   "source": [
    "r = np.array([15, 10, 2])\n",
    "solution, solution_fitness = run(R=r, stock_num=3, num_iter=200)\n",
    "print(f\"solution fitness: {solution_fitness}\")\n",
    "print(f\"solution: {solution}\")\n",
    "print(f\"objectiov function: {objectiv_func(solution, r)}\")\n",
    "# print(f\"sum solution: {sum(solution)}\")"
   ]
  },
  {
   "cell_type": "markdown",
   "metadata": {},
   "source": [
    "## simulated annealing"
   ]
  },
  {
   "cell_type": "code",
   "execution_count": 8,
   "metadata": {},
   "outputs": [],
   "source": [
    "class Portfolio(Problem):\n",
    "    def __init__(self, initial, restitution, lamda=1 ,step=0.1):\n",
    "        self.initial = initial\n",
    "        self.restitution = restitution\n",
    "        self.lamda = lamda\n",
    "        self.step  = step\n",
    "\n",
    "    def actions(self, state):\n",
    "        \"\"\"n**2 - n or O(n**2)\"\"\"\n",
    "        acts = []\n",
    "        for i in range(len(state)):\n",
    "            for j in range(len(state)):\n",
    "                if j != i:\n",
    "                    acts.append({\"up\": i, \"down\": j})\n",
    "        return acts\n",
    "    \n",
    "    def result(self, state, action):\n",
    "        new_state = state.copy()\n",
    "        new_state[action[\"up\"]] += self.step\n",
    "        new_state[action[\"down\"]] -= self.step\n",
    "        return new_state\n",
    "    \n",
    "    def value(self, state):\n",
    "        def objectiv_func(W, R, lmd=1):\n",
    "            return np.dot(W, R) - lmd * np.sqrt(np.dot(W, W) * np.cov(W))\n",
    "        return objectiv_func(state, self.restitution, self.lamda)\n"
   ]
  },
  {
   "cell_type": "code",
   "execution_count": 23,
   "metadata": {},
   "outputs": [],
   "source": [
    "## book pseudo code\n",
    "def simulated_annealing(problem, schedul=lambda x: 1/(x+1), iter=1000):\n",
    "    current = Node(problem.initial)\n",
    "    for t in range(iter):\n",
    "        T = schedul(t)\n",
    "        if T == 0:\n",
    "            return current\n",
    "        neighbors = current.expand(problem)\n",
    "        if not neighbors:\n",
    "            return current.state\n",
    "        next_choice = np.random.choice(neighbors)\n",
    "        delta_e = problem.value(next_choice.state) - problem.value(current.state)\n",
    "        if delta_e > 0:\n",
    "            current = next_choice\n",
    "        else:\n",
    "            if np.random.rand() > delta_e:\n",
    "                current = next_choice\n",
    "    return current"
   ]
  },
  {
   "cell_type": "code",
   "execution_count": 57,
   "metadata": {},
   "outputs": [
    {
     "name": "stdout",
     "output_type": "stream",
     "text": [
      "max: 785.0711449885839\n",
      "[35.5 34.  30.5]\n"
     ]
    }
   ],
   "source": [
    "w = np.array([25, 46, 29], dtype=float)\n",
    "r = np.array([15, 10, 2], dtype=float)\n",
    "max = 0\n",
    "max_state = None\n",
    "for i in range(10):\n",
    "    p = Portfolio(initial=w, restitution=r, step=0.5)\n",
    "    res = simulated_annealing(p)\n",
    "    # print(\"iter:\", i+1)\n",
    "    if p.value(res.state) > max:\n",
    "        max = p.value(res.state)\n",
    "        max_state = res.state\n",
    "\n",
    "print(f\"max: {max}\")\n",
    "print(max_state)"
   ]
  },
  {
   "cell_type": "code",
   "execution_count": 11,
   "metadata": {},
   "outputs": [],
   "source": [
    "def exp_schedule(k=20, lam=0.005, limit=100):\n",
    "    \"\"\"One possible schedule function for simulated annealing\"\"\"\n",
    "    return lambda t: (k * np.exp(-lam * t) if t < limit else 0)\n",
    "\n",
    "def probability(p):\n",
    "    \"\"\"Return true with probability p.\"\"\"\n",
    "    return p > np.random.uniform(0.0, 1.0)\n",
    "\n",
    "def _simulated_annealing(problem, schedule=exp_schedule()):\n",
    "    \"\"\"[Figure 4.5] CAUTION: This differs from the pseudocode as it\n",
    "    returns a state instead of a Node.\"\"\"\n",
    "    current = Node(problem.initial)\n",
    "    for t in range(sys.maxsize):\n",
    "        T = schedule(t)\n",
    "        if T == 0:\n",
    "            return current.state\n",
    "        neighbors = current.expand(problem)\n",
    "        if not neighbors:\n",
    "            return current.state\n",
    "        next_choice = np.random.choice(neighbors)\n",
    "        delta_e = problem.value(next_choice.state) - problem.value(current.state)\n",
    "        if delta_e > 0 or probability(np.exp(delta_e / T)):\n",
    "            current = next_choice\n"
   ]
  },
  {
   "cell_type": "code",
   "execution_count": 12,
   "metadata": {},
   "outputs": [
    {
     "name": "stdout",
     "output_type": "stream",
     "text": [
      "[27. 44. 29.]\n"
     ]
    },
    {
     "data": {
      "text/plain": [
       "352.832146825476"
      ]
     },
     "execution_count": 12,
     "metadata": {},
     "output_type": "execute_result"
    }
   ],
   "source": [
    "w = np.array([25, 46, 29], dtype=float)\n",
    "r = np.array([15, 10, 2], dtype=float)\n",
    "p = Portfolio(initial=w, restitution=r, step=0.1)\n",
    "res = _simulated_annealing(p)\n",
    "print(res)\n",
    "p.value(res)"
   ]
  }
 ],
 "metadata": {
  "kernelspec": {
   "display_name": "mlenv",
   "language": "python",
   "name": "python3"
  },
  "language_info": {
   "codemirror_mode": {
    "name": "ipython",
    "version": 3
   },
   "file_extension": ".py",
   "mimetype": "text/x-python",
   "name": "python",
   "nbconvert_exporter": "python",
   "pygments_lexer": "ipython3",
   "version": "3.10.12"
  }
 },
 "nbformat": 4,
 "nbformat_minor": 2
}
